{
 "cells": [
  {
   "cell_type": "code",
   "execution_count": 1,
   "metadata": {},
   "outputs": [],
   "source": [
    "import os\n",
    "import numpy as np\n",
    "import librosa as lb\n",
    "import librosa.display\n",
    "import matplotlib.pyplot as plt\n",
    "from pydub import AudioSegment\n",
    "from pydub.playback import play\n",
    "import pandas as pd"
   ]
  },
  {
   "cell_type": "code",
   "execution_count": null,
   "metadata": {},
   "outputs": [],
   "source": [
    "# current_path = os.getcwd() + \"/train_audio/asbfly\"\n",
    "# files = os.listdir(current_path)\n",
    "# sound_files = [f for f in files if f.endswith(\".ogg\")]\n",
    "\n",
    "# if not sound_files:\n",
    "#     raise FileNotFoundError(\"No .ogg files found in the directory\")\n",
    "\n",
    "# file = sound_files[0]\n",
    "\n",
    "# file_path = os.path.join(current_path, file)\n",
    "# y, sr = lb.load(file_path, sr=32000)\n",
    "\n",
    "# # Compute the mel spectrogram\n",
    "# S = lb.feature.melspectrogram(y=y, sr=sr)\n",
    "# S_dB = lb.power_to_db(S, ref=np.max)\n",
    "\n",
    "# print(sr)"
   ]
  },
  {
   "cell_type": "code",
   "execution_count": null,
   "metadata": {},
   "outputs": [],
   "source": [
    "# plt.figure(figsize=(10, 6))\n",
    "# lb.display.specshow(S_dB, sr=sr, x_axis=\"time\", y_axis=\"log\")\n",
    "# plt.colorbar(format=\"%+2.0f dB\")\n",
    "# plt.title(f\"Power Spectrum of {file}\")\n",
    "# plt.xlabel(\"Time\")\n",
    "# plt.ylabel(\"Frequency\")\n",
    "# plt.show()\n",
    "\n",
    "# # Play the audio using pydub\n",
    "# audio = AudioSegment.from_file(file_path)\n",
    "# play(audio)"
   ]
  },
  {
   "cell_type": "code",
   "execution_count": null,
   "metadata": {},
   "outputs": [],
   "source": [
    "traindata_path = os.getcwd() + '/train_audio'\n",
    "csv_path = os.getcwd() + '/train_metadata.csv'\n",
    "\n",
    "columns_to_read = ['primary_label', 'secondary_labels', 'type', 'latitude', 'longitude', 'filename']\n",
    "\n",
    "df = pd.read_csv(csv_path, usecols=columns_to_read)\n",
    "\n",
    "audio_data = []\n",
    "\n",
    "for filename in df['filename']:\n",
    "    audio_path = os.path.join(traindata_path, filename)\n",
    "    audio, _ = lb.load(audio_path)\n",
    "    audio_data.append(audio)\n",
    "\n",
    "df['audio'] = audio_data\n",
    "\n",
    "print(df.head())\n"
   ]
  }
 ],
 "metadata": {
  "kernelspec": {
   "display_name": "hw",
   "language": "python",
   "name": "python3"
  },
  "language_info": {
   "codemirror_mode": {
    "name": "ipython",
    "version": 3
   },
   "file_extension": ".py",
   "mimetype": "text/x-python",
   "name": "python",
   "nbconvert_exporter": "python",
   "pygments_lexer": "ipython3",
   "version": "3.12.2"
  }
 },
 "nbformat": 4,
 "nbformat_minor": 2
}
