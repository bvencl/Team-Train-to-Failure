{
 "cells": [
  {
   "cell_type": "code",
   "execution_count": null,
   "metadata": {},
   "outputs": [],
   "source": [
    "import os\n",
    "import numpy as np\n",
    "import pandas as pd\n",
    "import torch\n",
    "import torchvision\n",
    "import librosa as lb\n",
    "import torch.nn as nn\n",
    "from torchvision.models import efficientnet_v2_m\n",
    "\n",
    "class CFG():\n",
    "    def __init__(self):\n",
    "        self.device = torch.device(\"cpu\")\n",
    "        self.sample_rate = 32000\n",
    "        self.n_mels = 224\n",
    "        self.n_fft = 2048\n",
    "        self.hop_length = 512\n",
    "        self.max_length_s = 5\n",
    "        self.f_max = 16000\n",
    "        self.f_min = 20\n",
    "        self.num_classes = 182\n",
    "        self.model_path = \"model.pth\"\n",
    "        self.data_path = \"data/unlabeled_soundscapes/\"\n",
    "        self.output_path = \"submission.csv\"\n",
    "\n",
    "config = CFG()\n",
    "\n",
    "model = efficientnet_v2_m()\n",
    "model.classifier[1] = nn.Linear(\n",
    "    model.classifier[1].in_features, config.num_classes\n",
    ")\n",
    "model.load_state_dict(torch.load(config.model_path, map_location=config.device))\n",
    "model.eval()\n",
    "model.to(config.device)\n"
   ]
  },
  {
   "cell_type": "code",
   "execution_count": 2,
   "metadata": {},
   "outputs": [],
   "source": [
    "def list_audio_files(data_dir):\n",
    "    filepaths = [os.path.join(data_dir, f) for f in os.listdir(data_dir) if f.endswith(\".ogg\")]\n",
    "    return pd.DataFrame({\"filepath\": filepaths})\n",
    "\n",
    "def process_audio(file_path):\n",
    "    audio, _ = lb.load(file_path, sr=config.sample_rate, mono=True)\n",
    "    chunk_size = config.sample_rate * config.max_length_s\n",
    "    chunks = [audio[i:i+chunk_size] for i in range(0, len(audio), chunk_size)]\n",
    "    return chunks\n",
    "\n",
    "def mel_spectrogram(chunk):\n",
    "    mel_spec = lb.feature.melspectrogram(\n",
    "        y=chunk, sr=config.sample_rate, n_fft=config.n_fft,\n",
    "        hop_length=config.hop_length, n_mels=config.n_mels,\n",
    "        fmin=config.f_min, fmax=config.f_max\n",
    "    )\n",
    "    mel_spec_db = lb.power_to_db(mel_spec, ref=np.max)\n",
    "    \n",
    "    mel_spec_3ch = np.repeat(mel_spec_db[np.newaxis, :, :], 3, axis=0)\n",
    "    return mel_spec_3ch\n",
    "\n",
    "\n",
    "def load_species_labels(metadata_path):\n",
    "    data = pd.read_csv(metadata_path)\n",
    "    labels = sorted(list(data['primary_label'].unique()))\n",
    "    return labels\n",
    "\n",
    "LABELS = load_species_labels('data/train_metadata.csv')"
   ]
  },
  {
   "cell_type": "code",
   "execution_count": 3,
   "metadata": {},
   "outputs": [],
   "source": [
    "def generate_predictions(chunks, model, config):\n",
    "    predictions = []\n",
    "    sigmoid = nn.Sigmoid()\n",
    "    for chunk in chunks:\n",
    "        mel_spec = mel_spectrogram(chunk)\n",
    "        mel_tensor = torch.tensor(mel_spec, dtype=torch.float32).unsqueeze(0).to(config.device)\n",
    "        with torch.no_grad():\n",
    "            pred = sigmoid(model(mel_tensor))\n",
    "            predictions.append(pred.cpu().numpy())\n",
    "    return predictions\n",
    "\n",
    "def save_predictions_to_csv(filename, predictions):\n",
    "    predictions = np.squeeze(np.array(predictions), axis=1)\n",
    "\n",
    "    row_ids = [f\"soundscape_{filename}_{(i+1)*config.max_length_s}\" for i in range(len(predictions))]\n",
    "\n",
    "    pred_df = pd.DataFrame(predictions, columns=LABELS)\n",
    "    pred_df.insert(0, \"row_id\", row_ids)\n",
    "\n",
    "    pred_df.to_csv(config.output_path, mode=\"a\", index=False, header=not os.path.exists(config.output_path))"
   ]
  },
  {
   "cell_type": "code",
   "execution_count": 4,
   "metadata": {},
   "outputs": [],
   "source": [
    "audio_df = list_audio_files(config.data_path)"
   ]
  },
  {
   "cell_type": "code",
   "execution_count": null,
   "metadata": {},
   "outputs": [],
   "source": [
    "for _, row in audio_df.iterrows():\n",
    "    file_path = row[\"filepath\"]\n",
    "    filename = row[\"filepath\"].split(\"/\")[-1].replace(\".ogg\", \"\")\n",
    "\n",
    "    chunks = process_audio(file_path)\n",
    "\n",
    "    predictions = generate_predictions(chunks, model, config)\n",
    "\n",
    "    save_predictions_to_csv(filename, predictions)\n",
    "\n",
    "print(f\"Predictions saved to {config.output_path}\")"
   ]
  }
 ],
 "metadata": {
  "kernelspec": {
   "display_name": "base",
   "language": "python",
   "name": "python3"
  },
  "language_info": {
   "codemirror_mode": {
    "name": "ipython",
    "version": 3
   },
   "file_extension": ".py",
   "mimetype": "text/x-python",
   "name": "python",
   "nbconvert_exporter": "python",
   "pygments_lexer": "ipython3",
   "version": "3.12.2"
  }
 },
 "nbformat": 4,
 "nbformat_minor": 2
}
